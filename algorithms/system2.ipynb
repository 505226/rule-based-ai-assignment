{
 "cells": [
  {
   "cell_type": "markdown",
   "metadata": {},
   "source": [
    "# System 2"
   ]
  },
  {
   "cell_type": "code",
   "execution_count": 61,
   "metadata": {},
   "outputs": [
    {
     "name": "stdout",
     "output_type": "stream",
     "text": [
      "23.0\n",
      "True Positives (tp): 542\n",
      "True Negatives (tn): 4666\n",
      "False Positives (fp): 232\n",
      "False Negatives (fn): 1057\n",
      "Accuracy: 0.80\n",
      "Recall: 0.34\n",
      "Precision: 0.70\n",
      "F1: 0.46\n"
     ]
    }
   ],
   "source": [
    "# Imports pandas library\n",
    "import pandas as pd\n",
    "\n",
    "# Reading CSV files and putting them in data frames.\n",
    "df_red = pd.read_csv(r'data\\winequality-red.csv', sep=\";\")\n",
    "\n",
    "df_white = pd.read_csv(r'data\\winequality-white.csv', sep=\";\")\n",
    "\n",
    "red_free_sulfur_dioxide_sample = df_red.iloc[21, 5]\n",
    "red_chlorides_sample = df_red.iloc[21, 4]\n",
    "red_residual_sugar_sample = df_red.iloc[21, 3]\n",
    "red_fixed_acidity_sample = df_red.iloc[21, 0]\n",
    "print(red_free_sulfur_dioxide_sample)\n",
    "\n",
    "# Adding new column for actual wine type and assigning red/white to both data frames.\n",
    "df_red[\"actual_wine\"] = 'red'\n",
    "\n",
    "df_white[\"actual_wine\"] = 'white'\n",
    "\n",
    "df_red[\"predicted_wine\"] = 'na'\n",
    "\n",
    "df_white[\"predicted_wine\"] = 'na'\n",
    "\n",
    "# Concatenating both data frames together to form a single data frame.\n",
    "concat_df = pd.concat([df_red, df_white], axis=0)\n",
    "\n",
    "# Initialize variables\n",
    "tp = 0\n",
    "tn = 0\n",
    "fp = 0\n",
    "fn = 0\n",
    "\n",
    "for index, row in concat_df.iterrows():\n",
    "    # Determine predicted wine type\n",
    "    # Inference engine which uses forward chaining.\n",
    "    if row['chlorides'] <= red_chlorides_sample + (red_chlorides_sample * 0.6) and \\\n",
    "       row['chlorides'] >= red_chlorides_sample - (red_chlorides_sample * 0.6) and \\\n",
    "       row['residual sugar'] <= red_residual_sugar_sample + (red_residual_sugar_sample * 0.3) and \\\n",
    "       row['residual sugar'] >= red_residual_sugar_sample - (red_residual_sugar_sample * 0.3) and \\\n",
    "       row['fixed acidity'] <= red_fixed_acidity_sample + (red_fixed_acidity_sample * 0.1) and \\\n",
    "       row['fixed acidity'] >= red_fixed_acidity_sample - (red_fixed_acidity_sample * 0.1):\n",
    "        predicted_wine = 'red'\n",
    "    else:\n",
    "        predicted_wine = 'white'\n",
    "\n",
    "    # Assign predicted wine type to the DataFrame\n",
    "    concat_df.at[index, 'predicted_wine'] = predicted_wine\n",
    "\n",
    "\n",
    "    # Update tp, tn, fp, fn based on the predicted and actual values\n",
    "    if predicted_wine == 'red' and row['actual_wine'] == 'red':\n",
    "        tp += 1\n",
    "    elif predicted_wine == 'red' and row['actual_wine'] == 'white':\n",
    "        fp += 1\n",
    "    elif predicted_wine == 'white' and row['actual_wine'] == 'red':\n",
    "        fn += 1\n",
    "    elif predicted_wine == 'white' and row['actual_wine'] == 'white':\n",
    "        tn += 1\n",
    "\n",
    "print(f\"True Positives (tp): {tp}\")\n",
    "print(f\"True Negatives (tn): {tn}\")\n",
    "print(f\"False Positives (fp): {fp}\")\n",
    "print(f\"False Negatives (fn): {fn}\")\n",
    "\n",
    "accuracy = (tp + tn) / (tp + tn + fp + fn)\n",
    "recall = tp / (tp + fn)\n",
    "precision = tp / (tp + fp)\n",
    "f1 = 2 * ((precision * recall) / (precision + recall))\n",
    "print(f\"Accuracy: {accuracy:.2f}\")\n",
    "print(f\"Recall: {recall:.2f}\")\n",
    "print(f\"Precision: {precision:.2f}\")\n",
    "print(f\"F1: {f1:.2f}\")\n",
    "\n",
    "concat_df.to_csv('results2.csv')\n"
   ]
  }
 ],
 "metadata": {
  "kernelspec": {
   "display_name": "Python 3",
   "language": "python",
   "name": "python3"
  },
  "language_info": {
   "codemirror_mode": {
    "name": "ipython",
    "version": 3
   },
   "file_extension": ".py",
   "mimetype": "text/x-python",
   "name": "python",
   "nbconvert_exporter": "python",
   "pygments_lexer": "ipython3",
   "version": "3.11.9"
  }
 },
 "nbformat": 4,
 "nbformat_minor": 2
}
