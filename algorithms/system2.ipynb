{
 "cells": [
  {
   "cell_type": "markdown",
   "metadata": {},
   "source": [
    "# System 2"
   ]
  },
  {
   "cell_type": "code",
   "execution_count": null,
   "metadata": {},
   "outputs": [
    {
     "name": "stdout",
     "output_type": "stream",
     "text": [
      "True Positives (tp): 385\n",
      "True Negatives (tn): 4822\n",
      "False Positives (fp): 76\n",
      "False Negatives (fn): 1214\n",
      "Accuracy: 0.80\n",
      "Recall: 0.24\n",
      "Precision: 0.84\n",
      "F1: 0.37\n"
     ]
    }
   ],
   "source": [
    "# Imports pandas library\n",
    "import pandas as pd\n",
    "\n",
    "# Reading CSV files and putting them in data frames.\n",
    "df_red = pd.read_csv(r'data\\winequality-red.csv', sep=\";\")\n",
    "\n",
    "df_white = pd.read_csv(r'data\\winequality-white.csv', sep=\";\")\n",
    "\n",
    "# Adding new column for actual wine type and assigning red/white to both data frames.\n",
    "df_red[\"actual_wine\"] = 'red'\n",
    "\n",
    "df_white[\"actual_wine\"] = 'white'\n",
    "\n",
    "df_red[\"predicted_wine\"] = 'na'\n",
    "\n",
    "df_white[\"predicted_wine\"] = 'na'\n",
    "\n",
    "# Concatenating both data frames together to form a single data frame.\n",
    "concat_df = pd.concat([df_red, df_white], axis=0)\n",
    "\n",
    "# Initialize variables\n",
    "tp = 0\n",
    "tn = 0\n",
    "fp = 0\n",
    "fn = 0\n",
    "\n",
    "for index, row in concat_df.iterrows():\n",
    "    # Determine predicted wine type\n",
    "    # Inference engine which uses backward chaining based on research.\n",
    "\n",
    "    # Alcohol level in red wine is typically higher than white.\n",
    "    # Typically wines with more colour (red wine) have less sulfites than clear wines (white wine).\n",
    "    # Based on the higher content of sulfites it can be assumed that there will be less residual sugar.\n",
    "    if row['alcohol'] >= 11 and \\\n",
    "       row['total sulfur dioxide'] >= 5 and row['total sulfur dioxide'] <= 90 and \\\n",
    "       row['sulphates'] >= 0.55 and \\\n",
    "       row['residual sugar'] <= 8:\n",
    "        predicted_wine = 'red'\n",
    "    else:\n",
    "        predicted_wine = 'white'\n",
    "\n",
    "    # Assign predicted wine type to the DataFrame\n",
    "    concat_df.at[index, 'predicted_wine'] = predicted_wine\n",
    "\n",
    "\n",
    "    # Update tp, tn, fp, fn based on the predicted and actual values\n",
    "    if predicted_wine == 'red' and row['actual_wine'] == 'red':\n",
    "        tp += 1\n",
    "    elif predicted_wine == 'red' and row['actual_wine'] == 'white':\n",
    "        fp += 1\n",
    "    elif predicted_wine == 'white' and row['actual_wine'] == 'red':\n",
    "        fn += 1\n",
    "    elif predicted_wine == 'white' and row['actual_wine'] == 'white':\n",
    "        tn += 1\n",
    "\n",
    "print(f\"True Positives (tp): {tp}\")\n",
    "print(f\"True Negatives (tn): {tn}\")\n",
    "print(f\"False Positives (fp): {fp}\")\n",
    "print(f\"False Negatives (fn): {fn}\")\n",
    "\n",
    "accuracy = (tp + tn) / (tp + tn + fp + fn)\n",
    "recall = tp / (tp + fn)\n",
    "precision = tp / (tp + fp)\n",
    "f1 = 2 * ((precision * recall) / (precision + recall))\n",
    "print(f\"Accuracy: {accuracy:.2f}\")\n",
    "print(f\"Recall: {recall:.2f}\")\n",
    "print(f\"Precision: {precision:.2f}\")\n",
    "print(f\"F1: {f1:.2f}\")\n",
    "\n",
    "concat_df.to_csv('results2.csv')\n"
   ]
  }
 ],
 "metadata": {
  "kernelspec": {
   "display_name": "Python 3",
   "language": "python",
   "name": "python3"
  },
  "language_info": {
   "codemirror_mode": {
    "name": "ipython",
    "version": 3
   },
   "file_extension": ".py",
   "mimetype": "text/x-python",
   "name": "python",
   "nbconvert_exporter": "python",
   "pygments_lexer": "ipython3",
   "version": "3.11.9"
  }
 },
 "nbformat": 4,
 "nbformat_minor": 2
}
