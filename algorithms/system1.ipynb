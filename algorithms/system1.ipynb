{
 "cells": [
  {
   "cell_type": "markdown",
   "metadata": {},
   "source": [
    "# System 1"
   ]
  },
  {
   "cell_type": "code",
   "execution_count": 1,
   "metadata": {},
   "outputs": [
    {
     "name": "stdout",
     "output_type": "stream",
     "text": [
      "True Positives (tp): 1193\n",
      "True Negatives (tn): 4202\n",
      "False Positives (fp): 696\n",
      "False Negatives (fn): 406\n",
      "Accuracy: 0.83\n",
      "Recall: 0.75\n",
      "Precision: 0.63\n",
      "F1: 0.68\n"
     ]
    }
   ],
   "source": [
    "# Imports pandas library\n",
    "import pandas as pd\n",
    "\n",
    "# Reading CSV files and putting them in data frames.\n",
    "df_red = pd.read_csv(r'data\\winequality-red.csv', sep=\";\")\n",
    "\n",
    "df_white = pd.read_csv(r'data\\winequality-white.csv', sep=\";\")\n",
    "\n",
    "# Getting the median of both red/wines alcohol and pH levels.\n",
    "red_residual_sugar_median = df_red['residual sugar'].mean()\n",
    "\n",
    "red_volatile_acidity_median = df_red['volatile acidity'].mean()\n",
    "\n",
    "# Adding new column for actual wine type and assigning red/white to both data frames.\n",
    "df_red[\"actual_wine\"] = 'red'\n",
    "\n",
    "df_white[\"actual_wine\"] = 'white'\n",
    "\n",
    "df_red[\"predicted_wine\"] = 'na'\n",
    "\n",
    "df_white[\"predicted_wine\"] = 'na'\n",
    "\n",
    "# Concatenating both data frames together to form a single data frame.\n",
    "concat_df = pd.concat([df_red, df_white], axis=0)\n",
    "\n",
    "# Initialize variables\n",
    "tp = 0\n",
    "tn = 0\n",
    "fp = 0\n",
    "fn = 0\n",
    "\n",
    "for index, row in concat_df.iterrows():\n",
    "    # Determine predicted wine type\n",
    "    # Inference engine which uses forward chaining.\n",
    "    if row['residual sugar'] <= red_residual_sugar_median + (red_residual_sugar_median * 0.3) and \\\n",
    "       row['residual sugar'] >= red_residual_sugar_median - (red_residual_sugar_median * 0.3) and \\\n",
    "       row['volatile acidity'] <= red_volatile_acidity_median + (red_volatile_acidity_median * 1) and \\\n",
    "       row['volatile acidity'] >= red_volatile_acidity_median - (red_volatile_acidity_median * 1):\n",
    "        predicted_wine = 'red'\n",
    "    else:\n",
    "        predicted_wine = 'white'\n",
    "\n",
    "    # Assign predicted wine type to the DataFrame\n",
    "    concat_df.at[index, 'predicted_wine'] = predicted_wine\n",
    "\n",
    "\n",
    "    # Update tp, tn, fp, fn based on the predicted and actual values\n",
    "    if predicted_wine == 'red' and row['actual_wine'] == 'red':\n",
    "        tp += 1\n",
    "    elif predicted_wine == 'red' and row['actual_wine'] == 'white':\n",
    "        fp += 1\n",
    "    elif predicted_wine == 'white' and row['actual_wine'] == 'red':\n",
    "        fn += 1\n",
    "    elif predicted_wine == 'white' and row['actual_wine'] == 'white':\n",
    "        tn += 1\n",
    "\n",
    "print(f\"True Positives (tp): {tp}\")\n",
    "print(f\"True Negatives (tn): {tn}\")\n",
    "print(f\"False Positives (fp): {fp}\")\n",
    "print(f\"False Negatives (fn): {fn}\")\n",
    "\n",
    "accuracy = (tp + tn) / (tp + tn + fp + fn)\n",
    "recall = tp / (tp + fn)\n",
    "precision = tp / (tp + fp)\n",
    "f1 = 2 * ((precision * recall) / (precision + recall))\n",
    "print(f\"Accuracy: {accuracy:.2f}\")\n",
    "print(f\"Recall: {recall:.2f}\")\n",
    "print(f\"Precision: {precision:.2f}\")\n",
    "print(f\"F1: {f1:.2f}\")\n",
    "\n",
    "concat_df.to_csv('results.csv')\n"
   ]
  }
 ],
 "metadata": {
  "kernelspec": {
   "display_name": "Python 3",
   "language": "python",
   "name": "python3"
  },
  "language_info": {
   "codemirror_mode": {
    "name": "ipython",
    "version": 3
   },
   "file_extension": ".py",
   "mimetype": "text/x-python",
   "name": "python",
   "nbconvert_exporter": "python",
   "pygments_lexer": "ipython3",
   "version": "3.11.9"
  }
 },
 "nbformat": 4,
 "nbformat_minor": 2
}
